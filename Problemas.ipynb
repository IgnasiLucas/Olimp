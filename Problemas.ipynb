{
 "cells": [
  {
   "cell_type": "markdown",
   "id": "de70b974-0bf0-45bf-a0e1-b6aa825d0cbf",
   "metadata": {},
   "source": [
    "# Biorremediación. A la búsqueda de organismos degradadores de pesticidas.\n",
    "\n",
    "Uno de los problemas que afectan a los humedales es la contaminación de las aguas, el uso de fertilizantes y pesticidas impacta negativamente en la biodiversidad y el funcionamiento de estos ecosistemas. \n",
    "\n",
    "El **clorpirifós** es un pesticida organofosforado que produce daños en muchos ecosistemas. Cuando se aplica en los campos, puede ser arrastrado por la lluvia o el riego hacia lagos cercanos, donde tiene efectos tóxicos en peces, invertebrados acuáticos y otros organismos. Además, el clorpirifós puede acumularse en la cadena alimentaria acuática, lo que significa que los depredadores que consumen organismos contaminados pueden verse especialmente afectados. \n",
    "\n",
    "En un estudio sobre los efectos del clorpirifós en lagunas, se encontró por casualidad que alguno de los organismos de la laguna era capaz de degradar este compuesto. Al medir la concentración de pesticida en diferentes muestras de agua que incluían bacterias, fitoplancton y zooplancton, se observó que algunas de las muestras presentaban concentraciones bastante menores de éste, lo que llevó a pensar que alguno de los organismos había sido capaz de metabolizar dicho compuesto.\n",
    "\n",
    "Tras obtener este resultado, las responsables del estudio se plantean un proyecto de biorremediación y utilizar organismos que sean capaces de metabolizar el clorpirifós para descontaminar las lagunas. Para ello requieren responder a las siguientes cuestiones:\n",
    "\n",
    "- Determinar qué actividad enzimática es responsable de la degradación.\n",
    "- Localizar la especie que sintetiza esta enzima.\n",
    "- Determinar qué genotipo presenta mayor actividad enzimática.\n",
    "\n",
    "## ¿Qué enzima es la responsable?\n",
    "\n",
    "Desarrollo: se presentan datos de expresión para varias enzimas candidatas (qPCR). Estos datos provienen de varias de las muestras donde se encontraba degradación de clorpirifós. Se pueden presentar datos de varias enzimas con diferentes niveles de expresión en las diferentes muestras junto a enzimas constitutivas (housekeeping) o inducibles.  Mediante la realización de un gráfico escoger la enzima más probable.\n",
    "\n",
    "Evaluación: elección de la enzima correcta por ejemplo aquella expresada en todas las muestras y a más nivel de expresión. Distinguir entre enzimas constitutivas/inducibles. \n",
    "\n",
    "## ¿Qué organismo es el responsable?\n",
    "\n",
    "Desarrollo: se indica que la enzima encontrada es una lacasa, que se conoce que es capaz de degradar organofosforados y que mediante primers conservados se ha conseguido amplificar y secuenciar un segmento de la lacasa responsable. \n",
    "Realizar BLAST contra base de datos de lacasas e identificar especie por parecido BLAST. \n",
    "(Posible reconstrucción filogenética).\n",
    "\n",
    "También podría hacerse con varias secuencias y tener diferentes especies productoras de lacasa.\n",
    "\n",
    "## ¿Qué estructura tiene la enzima?\n",
    "\n",
    "Desarrollo: hacer alineamiento con secuencias próxima y lejanas. Identificar en el alineamiento el centro activo.\n",
    "\n",
    "¿Qué genotipo sería el más apropiado?\n",
    "\n",
    "Desarrollo: presentar una colección de SNPs (en tabla o VCF) para diferentes genotipos de la especie de interés y datos de su cinética (en figura). Identificar qué variantes producen mayor degradación.\n"
   ]
  },
  {
   "cell_type": "code",
   "execution_count": null,
   "id": "34934268-a294-470d-9f34-67f702153c52",
   "metadata": {},
   "outputs": [],
   "source": []
  }
 ],
 "metadata": {
  "kernelspec": {
   "display_name": "R",
   "language": "R",
   "name": "ir"
  },
  "language_info": {
   "codemirror_mode": "r",
   "file_extension": ".r",
   "mimetype": "text/x-r-source",
   "name": "R",
   "pygments_lexer": "r",
   "version": "4.2.2"
  }
 },
 "nbformat": 4,
 "nbformat_minor": 5
}
